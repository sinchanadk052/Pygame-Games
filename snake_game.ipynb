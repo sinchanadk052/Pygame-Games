{
 "cells": [
  {
   "cell_type": "code",
   "execution_count": 1,
   "id": "c1d6872a-9c42-486b-b0fd-3eae6f2c814e",
   "metadata": {},
   "outputs": [
    {
     "name": "stdout",
     "output_type": "stream",
     "text": [
      "pygame 2.6.1 (SDL 2.28.4, Python 3.12.7)\n",
      "Hello from the pygame community. https://www.pygame.org/contribute.html\n"
     ]
    }
   ],
   "source": [
    "import pygame\n",
    "import random\n",
    "import sys"
   ]
  },
  {
   "cell_type": "code",
   "execution_count": 3,
   "id": "efb47e7c-5223-43f8-a657-aaff4b20f5b9",
   "metadata": {},
   "outputs": [
    {
     "data": {
      "text/plain": [
       "(5, 0)"
      ]
     },
     "execution_count": 3,
     "metadata": {},
     "output_type": "execute_result"
    }
   ],
   "source": [
    "# Initialize Pygame\n",
    "pygame.init()\n"
   ]
  },
  {
   "cell_type": "code",
   "execution_count": 4,
   "id": "0c5b5bb4-2957-4962-a374-cf6e81514f74",
   "metadata": {},
   "outputs": [],
   "source": [
    "# Constants\n",
    "WINDOW_WIDTH = 640\n",
    "WINDOW_HEIGHT = 480\n",
    "CELL_SIZE = 20\n",
    "GRID_WIDTH = WINDOW_WIDTH // CELL_SIZE\n",
    "GRID_HEIGHT = WINDOW_HEIGHT // CELL_SIZE"
   ]
  },
  {
   "cell_type": "code",
   "execution_count": null,
   "id": "e06d2c0c-0191-49ea-8ec5-0200c7d768c5",
   "metadata": {},
   "outputs": [],
   "source": []
  }
 ],
 "metadata": {
  "kernelspec": {
   "display_name": "Python 3 (ipykernel)",
   "language": "python",
   "name": "python3"
  },
  "language_info": {
   "codemirror_mode": {
    "name": "ipython",
    "version": 3
   },
   "file_extension": ".py",
   "mimetype": "text/x-python",
   "name": "python",
   "nbconvert_exporter": "python",
   "pygments_lexer": "ipython3",
   "version": "3.12.7"
  }
 },
 "nbformat": 4,
 "nbformat_minor": 5
}
